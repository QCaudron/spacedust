{
 "cells": [
  {
   "cell_type": "code",
   "execution_count": 1,
   "metadata": {},
   "outputs": [],
   "source": [
    "import json\n",
    "from supernova import Supernova"
   ]
  },
  {
   "cell_type": "markdown",
   "metadata": {},
   "source": [
    "### First, let's load in some data"
   ]
  },
  {
   "cell_type": "code",
   "execution_count": 2,
   "metadata": {},
   "outputs": [],
   "source": [
    "# Let's load in some data\n",
    "with open(\"/Users/QCaudron/Downloads/property/fake_addresses.json\", \"r\") as f:\n",
    "    x1, x2, y = json.load(f)"
   ]
  },
  {
   "cell_type": "markdown",
   "metadata": {},
   "source": [
    "### Let's explore the data a little"
   ]
  },
  {
   "cell_type": "code",
   "execution_count": 3,
   "metadata": {},
   "outputs": [
    {
     "data": {
      "text/plain": [
       "['9020 Rancho Park Ct, Rancho Cucamonga, CA, 91729',\n",
       " '9020 Rancho Park Ct, Rancho Cucamonga, CA, 91729',\n",
       " '9020 Rancho Park Ct, Rancho Cucamonga, CA, 91729',\n",
       " '9020 Rancho Park Ct, Rancho Cucamonga, CA, 91729',\n",
       " '9020 Rancho Park Ct, Rancho Cucamonga, CA, 91729',\n",
       " '9020 Rancho Park Ct, Rancho Cucamonga, CA, 91729',\n",
       " '9020 Rancho Park Ct, Rancho Cucamonga, CA, 91729',\n",
       " '9020 Rancho Park Ct, Rancho Cucamonga, CA, 91729',\n",
       " '9020 Rancho Park Ct, Rancho Cucamonga, CA, 91729',\n",
       " '9020 Rancho Park Ct, Rancho Cucamonga, CA, 91729',\n",
       " '9020 Rancho Park Ct, Rancho Cucamonga, CA, 91729',\n",
       " '9020 Rancho Park Ct, Rancho Cucamonga, CA, 91729',\n",
       " '9020 Rancho Park Ct, Rancho Cucamonga, CA, 91729',\n",
       " '9020 Rancho Park Ct, Rancho Cucamonga, CA, 91729',\n",
       " '9020 Rancho Park Ct, Rancho Cucamonga, CA, 91729',\n",
       " '9020 Rancho Park Ct, Rancho Cucamonga, CA, 91729',\n",
       " '9020 Rancho Park Ct, Rancho Cucamonga, CA, 91729',\n",
       " '9020 Rancho Park Ct, Rancho Cucamonga, CA, 91729',\n",
       " '9020 Rancho Park Ct, Rancho Cucamonga, CA, 91729',\n",
       " '9020 Rancho Park Ct, Rancho Cucamonga, CA, 91729',\n",
       " '9020 Rancho Park Ct, Rancho Cucamonga, CA, 91729',\n",
       " '9020 Rancho Park Ct, Rancho Cucamonga, CA, 91729',\n",
       " '9020 Rancho Park Ct, Rancho Cucamonga, CA, 91729',\n",
       " '9020 Rancho Park Ct, Rancho Cucamonga, CA, 91729',\n",
       " '9020 Rancho Park Ct, Rancho Cucamonga, CA, 91729',\n",
       " '4400 Blalock Rd, Houston, TX, 77041',\n",
       " '4400 Blalock Rd, Houston, TX, 77041',\n",
       " '4400 Blalock Rd, Houston, TX, 77041',\n",
       " '4400 Blalock Rd, Houston, TX, 77041',\n",
       " '4400 Blalock Rd, Houston, TX, 77041']"
      ]
     },
     "execution_count": 3,
     "metadata": {},
     "output_type": "execute_result"
    }
   ],
   "source": [
    "# Explore the data a little\n",
    "x1[:30]"
   ]
  },
  {
   "cell_type": "code",
   "execution_count": 4,
   "metadata": {},
   "outputs": [
    {
     "data": {
      "text/plain": [
       "['9020 Rancho Park Ct E, Rancho Cucamonga, CA, 91729',\n",
       " '9020 Rancho Park Ct, Rancho Cucamonga, CA, 91729',\n",
       " '9020 Rancho Park Ct S, Rancho Cucamonga, CA, 91729',\n",
       " '9020 Rancho Park Court, Rancho Cucamonga, 91729',\n",
       " '9020 Rancho Park Ct, Rancho Cucamonga, 91729',\n",
       " '501 Atlantic Freeway, Los Angeles, CA, 90022',\n",
       " '420 Garden Ave, Clearwater, FL, 33756',\n",
       " '12635 Saticoy St, North Hollywood, CA, 91605',\n",
       " '3000 Arden Way, Sacramento, CA, 95825',\n",
       " '1150 Foothill Blvd, La Canada Flintridge, 91011',\n",
       " '345 Chestnut Ave, Monrovia, CA, 91016',\n",
       " '3104 1030 , West Valley City, 84119',\n",
       " '10904 7th Ave, Miami, FL, 33168',\n",
       " '16209 25th Ave, Lynnwood, WA, 98037',\n",
       " '1801 Dixiana Rd, West Columbia, SC, 29172',\n",
       " '21421 68th Pkwy, Kent, WA, 98032',\n",
       " '4867 Harold Gatty Dr, Salt Lake City, UT, 84116',\n",
       " '8309 Interstate 35 Cir, AustinCir, 78753',\n",
       " '5532 Washington Blvd, Los Angeles, CA, 90016',\n",
       " '502 Shoreview Park Rd, Shoreview, MN, 55126',\n",
       " '1517 130th St, Gardena, CA, 90249',\n",
       " '2050 Duane Ave, Santa Clara, CA, 95054',\n",
       " '1074 Mikole Road, Honolulu, 96819',\n",
       " '19898 Nordhoff Street, Northridge, CA, 91324',\n",
       " '1761 900  North, Salt Lake City North, UT North, 84104',\n",
       " '4400 Blalock Blv, Houston, TX, 77041',\n",
       " '4400 Blalock Road, Houston, TX, 77041',\n",
       " '4400 Blalock Road, Houston, TX, 77041',\n",
       " '4400 Blalock Road, Houston, 77041',\n",
       " '4400 Blalock Lane S, Houston, TX, 77041']"
      ]
     },
     "execution_count": 4,
     "metadata": {},
     "output_type": "execute_result"
    }
   ],
   "source": [
    "x2[:30]"
   ]
  },
  {
   "cell_type": "code",
   "execution_count": 5,
   "metadata": {},
   "outputs": [
    {
     "data": {
      "text/plain": [
       "[True,\n",
       " True,\n",
       " True,\n",
       " True,\n",
       " True,\n",
       " False,\n",
       " False,\n",
       " False,\n",
       " False,\n",
       " False,\n",
       " False,\n",
       " False,\n",
       " False,\n",
       " False,\n",
       " False,\n",
       " False,\n",
       " False,\n",
       " False,\n",
       " False,\n",
       " False,\n",
       " False,\n",
       " False,\n",
       " False,\n",
       " False,\n",
       " False,\n",
       " True,\n",
       " True,\n",
       " True,\n",
       " True,\n",
       " True]"
      ]
     },
     "execution_count": 5,
     "metadata": {},
     "output_type": "execute_result"
    }
   ],
   "source": [
    "y[:30]"
   ]
  },
  {
   "cell_type": "markdown",
   "metadata": {},
   "source": [
    "The data in comes in blocks of 25. Each block contains the same address at each element of `x1`. In `x2`, the first five are variations of that address, and the last twenty are random other addresses. As such, the entries of `y` are also blocks of 25, with the first five being `True` and the last twenty being `False`.\n",
    "\n",
    "This is fake(ish) data. The original addresses are from EDP, from Dave's dump. The variants are very simple fake mutations we put together. The result ( `x1`, `x2`, and `y` ) is a labelled dataset."
   ]
  },
  {
   "cell_type": "markdown",
   "metadata": {},
   "source": [
    "### Let's spin up a deduper"
   ]
  },
  {
   "cell_type": "code",
   "execution_count": 6,
   "metadata": {},
   "outputs": [],
   "source": [
    "# For Levenshtein distances\n",
    "from fuzzywuzzy import fuzz\n",
    "\n",
    "\n",
    "# Our features\n",
    "def street_number_same(x1, x2):\n",
    "    return x1.split(\" \")[0] == x2.split(\" \")[0]\n",
    "        \n",
    "def same_city(x1, x2):\n",
    "    return x1.split(\", \")[1] == x2.split(\", \")[1]\n",
    "\n",
    "def fuzzy(x1, x2):\n",
    "    return fuzz.ratio(x1, x2) / 100\n",
    "\n",
    "\n",
    "# Our deduper object\n",
    "class AddressDeduplicator(Supernova):\n",
    "\n",
    "    # Set the filename and set the model\n",
    "    filename = \"address_deduper\"\n",
    "\n",
    "    # Define the set of features\n",
    "    featureset = [\n",
    "        street_number_same,\n",
    "        same_city,\n",
    "        fuzzy\n",
    "    ]"
   ]
  },
  {
   "cell_type": "code",
   "execution_count": 13,
   "metadata": {},
   "outputs": [
    {
     "name": "stdout",
     "output_type": "stream",
     "text": [
      "Fitting 5 folds for each of 1 candidates, totalling 5 fits\n"
     ]
    },
    {
     "name": "stderr",
     "output_type": "stream",
     "text": [
      "/Users/qcaudron/anaconda3/lib/python3.6/site-packages/sklearn/preprocessing/label.py:151: DeprecationWarning: The truth value of an empty array is ambiguous. Returning False, but in future this will result in an error. Use `array.size > 0` to check that an array is not empty.\n",
      "  if diff:\n",
      "/Users/qcaudron/anaconda3/lib/python3.6/site-packages/sklearn/preprocessing/label.py:151: DeprecationWarning: The truth value of an empty array is ambiguous. Returning False, but in future this will result in an error. Use `array.size > 0` to check that an array is not empty.\n",
      "  if diff:\n",
      "/Users/qcaudron/anaconda3/lib/python3.6/site-packages/sklearn/preprocessing/label.py:151: DeprecationWarning: The truth value of an empty array is ambiguous. Returning False, but in future this will result in an error. Use `array.size > 0` to check that an array is not empty.\n",
      "  if diff:\n",
      "/Users/qcaudron/anaconda3/lib/python3.6/site-packages/sklearn/preprocessing/label.py:151: DeprecationWarning: The truth value of an empty array is ambiguous. Returning False, but in future this will result in an error. Use `array.size > 0` to check that an array is not empty.\n",
      "  if diff:\n",
      "/Users/qcaudron/anaconda3/lib/python3.6/site-packages/sklearn/preprocessing/label.py:151: DeprecationWarning: The truth value of an empty array is ambiguous. Returning False, but in future this will result in an error. Use `array.size > 0` to check that an array is not empty.\n",
      "  if diff:\n",
      "/Users/qcaudron/anaconda3/lib/python3.6/site-packages/sklearn/preprocessing/label.py:151: DeprecationWarning: The truth value of an empty array is ambiguous. Returning False, but in future this will result in an error. Use `array.size > 0` to check that an array is not empty.\n",
      "  if diff:\n",
      "/Users/qcaudron/anaconda3/lib/python3.6/site-packages/sklearn/preprocessing/label.py:151: DeprecationWarning: The truth value of an empty array is ambiguous. Returning False, but in future this will result in an error. Use `array.size > 0` to check that an array is not empty.\n",
      "  if diff:\n",
      "/Users/qcaudron/anaconda3/lib/python3.6/site-packages/sklearn/preprocessing/label.py:151: DeprecationWarning: The truth value of an empty array is ambiguous. Returning False, but in future this will result in an error. Use `array.size > 0` to check that an array is not empty.\n",
      "  if diff:\n",
      "/Users/qcaudron/anaconda3/lib/python3.6/site-packages/sklearn/preprocessing/label.py:151: DeprecationWarning: The truth value of an empty array is ambiguous. Returning False, but in future this will result in an error. Use `array.size > 0` to check that an array is not empty.\n",
      "  if diff:\n",
      "/Users/qcaudron/anaconda3/lib/python3.6/site-packages/sklearn/preprocessing/label.py:151: DeprecationWarning: The truth value of an empty array is ambiguous. Returning False, but in future this will result in an error. Use `array.size > 0` to check that an array is not empty.\n",
      "  if diff:\n",
      "[Parallel(n_jobs=1)]: Done   5 out of   5 | elapsed:    0.2s finished\n"
     ]
    },
    {
     "name": "stdout",
     "output_type": "stream",
     "text": [
      "Model score : 0.9970000000000001 +/- 0.008000000000000007\n"
     ]
    },
    {
     "name": "stderr",
     "output_type": "stream",
     "text": [
      "/Users/qcaudron/anaconda3/lib/python3.6/site-packages/sklearn/preprocessing/label.py:151: DeprecationWarning: The truth value of an empty array is ambiguous. Returning False, but in future this will result in an error. Use `array.size > 0` to check that an array is not empty.\n",
      "  if diff:\n",
      "/Users/qcaudron/anaconda3/lib/python3.6/site-packages/sklearn/preprocessing/label.py:151: DeprecationWarning: The truth value of an empty array is ambiguous. Returning False, but in future this will result in an error. Use `array.size > 0` to check that an array is not empty.\n",
      "  if diff:\n",
      "/Users/qcaudron/anaconda3/lib/python3.6/site-packages/sklearn/preprocessing/label.py:151: DeprecationWarning: The truth value of an empty array is ambiguous. Returning False, but in future this will result in an error. Use `array.size > 0` to check that an array is not empty.\n",
      "  if diff:\n",
      "/Users/qcaudron/anaconda3/lib/python3.6/site-packages/sklearn/preprocessing/label.py:151: DeprecationWarning: The truth value of an empty array is ambiguous. Returning False, but in future this will result in an error. Use `array.size > 0` to check that an array is not empty.\n",
      "  if diff:\n",
      "/Users/qcaudron/anaconda3/lib/python3.6/site-packages/sklearn/preprocessing/label.py:151: DeprecationWarning: The truth value of an empty array is ambiguous. Returning False, but in future this will result in an error. Use `array.size > 0` to check that an array is not empty.\n",
      "  if diff:\n"
     ]
    }
   ],
   "source": [
    "# Instantiate and train on the first thousand\n",
    "deduper = AddressDeduplicator()\n",
    "deduper.fit(x1[:1000], x2[:1000], y[:1000])"
   ]
  },
  {
   "cell_type": "markdown",
   "metadata": {},
   "source": [
    "Looks good, we have a model score of 99.7%. Ignore all the warnings in pink, we'll be upgrading some packages so that those DeprecationWarnings go away."
   ]
  },
  {
   "cell_type": "markdown",
   "metadata": {},
   "source": [
    "### Testing the deduper"
   ]
  },
  {
   "cell_type": "code",
   "execution_count": 14,
   "metadata": {},
   "outputs": [
    {
     "data": {
      "text/plain": [
       "array([[0.6960388 ],\n",
       "       [0.00085097],\n",
       "       [0.00093192]], dtype=float32)"
      ]
     },
     "execution_count": 14,
     "metadata": {},
     "output_type": "execute_result"
    }
   ],
   "source": [
    "# Our known address \"database\"\n",
    "boop = [\n",
    "    \"123 Main Street, Seattle, WA, 98101\",\n",
    "    \"420 5th Ave, Seattle, WA, 98101\",\n",
    "    \"123, Main Lane, Spokane, WA, 99999\"\n",
    "]\n",
    "\n",
    "# Someone enters in \"123 Main St, Seattle\". Do we have this address in our DB ?\n",
    "\n",
    "deduper.predict(boop, \"123 Main St, Seattle\")"
   ]
  },
  {
   "cell_type": "markdown",
   "metadata": {},
   "source": [
    "The probability that \"123 Main St, Seattle\" is a dupe of \"123 Main Street, Seattle, WA, 98101\" comes back at 69.6%. The other scores are very small, under 1%. We've found a duplicate."
   ]
  },
  {
   "cell_type": "markdown",
   "metadata": {},
   "source": [
    "### Loading the deduper from scratch\n",
    "\n",
    "We're trying to run this on another box. At this point, Supernova cannot save the featureset, so we have to rebuild it."
   ]
  },
  {
   "cell_type": "code",
   "execution_count": 15,
   "metadata": {},
   "outputs": [],
   "source": [
    "# Our deduper object\n",
    "class AddressDeduplicator(Supernova):\n",
    "\n",
    "    # Set the filename and set the model\n",
    "    filename = \"address_deduper\"\n",
    "\n",
    "    # Define the set of features\n",
    "    featureset = [\n",
    "        street_number_same,\n",
    "        same_city,\n",
    "        fuzzy\n",
    "    ]"
   ]
  },
  {
   "cell_type": "markdown",
   "metadata": {},
   "source": [
    "Great, this has the same features as before ( that's essential ), and the same filename ( that's essential if you don't want to have to retrain the model )."
   ]
  },
  {
   "cell_type": "code",
   "execution_count": 18,
   "metadata": {},
   "outputs": [],
   "source": [
    "deduper2 = AddressDeduplicator()"
   ]
  },
  {
   "cell_type": "code",
   "execution_count": 19,
   "metadata": {},
   "outputs": [
    {
     "data": {
      "text/plain": [
       "array([[9.9651611e-01, 6.9603878e-01, 1.5433135e-03],\n",
       "       [6.9603878e-01, 9.9651611e-01, 8.2797377e-04],\n",
       "       [1.5433135e-03, 8.2797377e-04, 9.9651611e-01]], dtype=float32)"
      ]
     },
     "execution_count": 19,
     "metadata": {},
     "output_type": "execute_result"
    }
   ],
   "source": [
    "deduper2.predict(boop, boop)"
   ]
  },
  {
   "cell_type": "markdown",
   "metadata": {},
   "source": [
    "We didn't have to retrain this one, because Supernova found a file on disk that matched the given filename. Instead of training our model, we just loaded the one we previously trained from disk. As such, we were able to to straight to `.predict`. Here, we passed in `boop` twice, and we therefore got back a `(len(boop), len(boop))`-shaped array. We see that the diagonals are very high ( 0.9965 ), whereas most of the rest is very small ( < 0.01 ).\n",
    "\n",
    "However, note that entries at (0, 1) and (1, 0) are 0.696. This is high, and we wouldn't expect `boop[0]` and `boop[1]` to be duplicates. We probably need more ( better ) features. Comparing the cities is a pretty terrible idea, really. However, this was a quick example."
   ]
  }
 ],
 "metadata": {
  "kernelspec": {
   "display_name": "Python [conda env:anaconda3]",
   "language": "python",
   "name": "conda-env-anaconda3-py"
  },
  "language_info": {
   "codemirror_mode": {
    "name": "ipython",
    "version": 3
   },
   "file_extension": ".py",
   "mimetype": "text/x-python",
   "name": "python",
   "nbconvert_exporter": "python",
   "pygments_lexer": "ipython3",
   "version": "3.6.5"
  }
 },
 "nbformat": 4,
 "nbformat_minor": 2
}
